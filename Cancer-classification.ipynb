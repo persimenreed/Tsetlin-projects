{
 "cells": [
  {
   "cell_type": "code",
   "execution_count": 1,
   "id": "9ef8d66b",
   "metadata": {},
   "outputs": [],
   "source": [
    "from random import random, choice"
   ]
  },
  {
   "cell_type": "code",
   "execution_count": 40,
   "id": "2b3a46f5-1778-472a-9024-63b6c457b792",
   "metadata": {},
   "outputs": [],
   "source": [
    "def evaluate_condition(observation, condition):\n",
    "    truth_value_of_condition = True\n",
    "    for feature in observation:\n",
    "        if feature in condition and observation[feature] == False:\n",
    "            truth_value_of_condition = False\n",
    "            break\n",
    "        if 'NOT ' + feature in condition and observation[feature] == True:\n",
    "            truth_value_of_condition = False\n",
    "            break\n",
    "    return truth_value_of_condition"
   ]
  },
  {
   "cell_type": "code",
   "execution_count": 41,
   "id": "cf5e7348",
   "metadata": {},
   "outputs": [],
   "source": [
    "class Memory:\n",
    "    def __init__(self, forget_value, memorize_value, memory):\n",
    "        self.memory = memory\n",
    "        self.forget_value = forget_value\n",
    "        self.memorize_value = memorize_value\n",
    "    \n",
    "    def get_memory(self):\n",
    "        return self.memory\n",
    "    \n",
    "    def get_literals(self):\n",
    "        return list(self.memory.keys())\n",
    "    \n",
    "    def get_condition(self):\n",
    "        condition = []\n",
    "        for literal in self.memory:\n",
    "            if self.memory[literal] >= 6:\n",
    "                condition.append(literal)\n",
    "        return condition\n",
    "        \n",
    "    def memorize(self, literal):\n",
    "        if random() <= self.memorize_value and self.memory[literal] < 10:\n",
    "            self.memory[literal] += 1\n",
    "            \n",
    "    def forget(self, literal):\n",
    "        if random() <= self.forget_value and self.memory[literal] > 1:\n",
    "            self.memory[literal] -= 1\n",
    "            \n",
    "    def memorize_always(self, literal):\n",
    "        if  self.memory[literal] < 10:\n",
    "            self.memory[literal] += 1"
   ]
  },
  {
   "cell_type": "code",
   "execution_count": 42,
   "id": "8a5d3536",
   "metadata": {},
   "outputs": [],
   "source": [
    "def classify(observation, recurrence_rules, non_recurrence_rules):\n",
    "    vote_sum = 0\n",
    "    for recurrence_rule in recurrence_rules:\n",
    "        if evaluate_condition(observation, recurrence_rule.get_condition()) == True:\n",
    "            vote_sum += 1\n",
    "    for non_recurrence_rule in non_recurrence_rules:\n",
    "        if evaluate_condition(observation, non_recurrence_rule.get_condition()) == True:\n",
    "            vote_sum -= 1\n",
    "    if vote_sum >= 0:\n",
    "        return \"Recurrence\"\n",
    "    else:\n",
    "        return \"Non Recurrence\""
   ]
  },
  {
   "cell_type": "code",
   "execution_count": 43,
   "id": "5d2d430e",
   "metadata": {},
   "outputs": [],
   "source": [
    "def type_i_feedback(observation, memory):\n",
    "    remaining_literals = memory.get_literals()\n",
    "    if evaluate_condition(observation, memory.get_condition()) == True:\n",
    "        for feature in observation:\n",
    "            if observation[feature] == True:\n",
    "                memory.memorize(feature)\n",
    "                remaining_literals.remove(feature)\n",
    "            elif observation[feature] == False:\n",
    "                memory.memorize('NOT ' + feature)\n",
    "                remaining_literals.remove('NOT ' + feature)\n",
    "    for literal in remaining_literals:\n",
    "        memory.forget(literal)\n",
    "\n",
    "def type_ii_feedback(observation, memory):\n",
    "    if evaluate_condition(observation, memory.get_condition()) == True:\n",
    "        for feature in observation:\n",
    "            if observation[feature] == False:\n",
    "                memory.memorize_always(feature)\n",
    "            elif observation[feature] == True:\n",
    "                memory.memorize_always('NOT ' + feature)"
   ]
  },
  {
   "cell_type": "markdown",
   "id": "6a1ac3ba-7bb9-440f-aa85-d35910876263",
   "metadata": {},
   "source": [
    "## First part of assignment (Step 2 - Step 4)\n",
    "Manually adding the dataset, the rules and classify the patients with the three rules"
   ]
  },
  {
   "cell_type": "code",
   "execution_count": 28,
   "id": "9bb2d1c8",
   "metadata": {},
   "outputs": [],
   "source": [
    "patients_recurrence = [\n",
    "    {'menopause-lt40':False, 'menopause-ge40':True, 'menopause-premeno':False, 'inv-nodes-0-2':False, 'inv-nodes-3-5':True, 'inv-nodes-6-8':False, 'deg-malign-1': False, 'deg-malign-2': False, 'deg-malign-3':True},\n",
    "    {'menopause-lt40':False, 'menopause-ge40':True, 'menopause-premeno':False, 'inv-nodes-0-2':False, 'inv-nodes-3-5':False, 'inv-nodes-6-8':True, 'deg-malign-1': False, 'deg-malign-2': False, 'deg-malign-3':True},\n",
    "    {'menopause-lt40':False, 'menopause-ge40':False, 'menopause-premeno':True, 'inv-nodes-0-2':True, 'inv-nodes-3-5':False, 'inv-nodes-6-8':False, 'deg-malign-1': False, 'deg-malign-2': False, 'deg-malign-3':True},\n",
    "]\n",
    "\n",
    "patients_non_recurrence = [\n",
    "    {'menopause-lt40':True, 'menopause-ge40':False, 'menopause-premeno':False, 'inv-nodes-0-2':True, 'inv-nodes-3-5':False, 'inv-nodes-6-8':False, 'deg-malign-1': False, 'deg-malign-2': False, 'deg-malign-3':True},\n",
    "    {'menopause-lt40':False, 'menopause-ge40':True, 'menopause-premeno':False, 'inv-nodes-0-2':True, 'inv-nodes-3-5':False, 'inv-nodes-6-8':False, 'deg-malign-1': False, 'deg-malign-2': True, 'deg-malign-3':False},\n",
    "    {'menopause-lt40':False, 'menopause-ge40':False, 'menopause-premeno':True, 'inv-nodes-0-2':True, 'inv-nodes-3-5':False, 'inv-nodes-6-8':False, 'deg-malign-1': True, 'deg-malign-2': False, 'deg-malign-3':False},\n",
    "]"
   ]
  },
  {
   "cell_type": "code",
   "execution_count": 44,
   "id": "97e3fbdd-ca4b-454b-94d5-7e15514b7657",
   "metadata": {},
   "outputs": [
    {
     "name": "stdout",
     "output_type": "stream",
     "text": [
      "IF deg-malign-3 AND NOT menopause-lt40 THEN Recurrence\n",
      "IF deg-malign-3 AND NOT menopause-lt40 THEN Recurrence\n",
      "IF inv-nodes-0-2 THEN Non-Recurrence\n",
      "Recurrence\n",
      "Recurrence\n",
      "Recurrence\n",
      "Non Recurrence\n",
      "Non Recurrence\n",
      "Non Recurrence\n"
     ]
    }
   ],
   "source": [
    "#Defining the rules manually\n",
    "predefined_rule_1 = Memory(0.0, 1.0,{'deg-malign-3':10,'NOT menopause-lt40':10})\n",
    "predefined_rule_2 = Memory(0.0, 1.0,{'deg-malign-3':10,'NOT menopause-lt40':10})\n",
    "predefined_rule_3 = Memory(0.0, 1.0,{'inv-nodes-0-2':10})\n",
    "\n",
    "#Combining recurrence rules togther\n",
    "predefined_recurrence_rules = [predefined_rule_1, predefined_rule_2]\n",
    "predefined_non_recurrence_rules = [predefined_rule_3]\n",
    "\n",
    "#Printing conditions\n",
    "print(\"IF \" + \" AND \".join(predefined_rule_1.get_condition()) + \" THEN Recurrence\")\n",
    "print(\"IF \" + \" AND \".join(predefined_rule_2.get_condition()) + \" THEN Recurrence\")\n",
    "print(\"IF \" + \" AND \".join(predefined_rule_3.get_condition()) + \" THEN Non-Recurrence\")\n",
    "\n",
    "\n",
    "#Classifying patients\n",
    "print(classify(patients_recurrence[0], predefined_recurrence_rules, predefined_non_recurrence_rules))\n",
    "print(classify(patients_recurrence[1], predefined_recurrence_rules, predefined_non_recurrence_rules))\n",
    "print(classify(patients_recurrence[2], predefined_recurrence_rules, predefined_non_recurrence_rules))\n",
    "\n",
    "print(classify(patients_non_recurrence[0], predefined_recurrence_rules, predefined_non_recurrence_rules))\n",
    "print(classify(patients_non_recurrence[1], predefined_recurrence_rules, predefined_non_recurrence_rules))\n",
    "print(classify(patients_non_recurrence[2], predefined_recurrence_rules, predefined_non_recurrence_rules))"
   ]
  },
  {
   "cell_type": "markdown",
   "id": "e55ad6f9-7e20-49a7-aa28-9836ac27a33e",
   "metadata": {},
   "source": [
    "## Step 5 and Step 6\n",
    "Learning new rules with forget value 0.8 and memorize value 0.2"
   ]
  },
  {
   "cell_type": "code",
   "execution_count": 58,
   "id": "ffd069e5",
   "metadata": {},
   "outputs": [],
   "source": [
    "recurrence_rule_1 = Memory(0.8, 0.2,\n",
    "                           {'menopause-lt40':5,\n",
    "                            'NOT menopause-lt40':5,\n",
    "                            'menopause-ge40':5,\n",
    "                            'NOT menopause-ge40':5,\n",
    "                            'menopause-premeno':5,\n",
    "                            'NOT menopause-premeno':5,\n",
    "                            'inv-nodes-0-2':5,\n",
    "                            'NOT inv-nodes-0-2':5,\n",
    "                            'inv-nodes-3-5':5,\n",
    "                            'NOT inv-nodes-3-5':5,\n",
    "                            'inv-nodes-6-8':5,\n",
    "                            'NOT inv-nodes-6-8':5,\n",
    "                            'deg-malign-1':5,\n",
    "                            'NOT deg-malign-1':5,\n",
    "                            'deg-malign-2':5,\n",
    "                            'NOT deg-malign-2':5,\n",
    "                            'deg-malign-3':5,\n",
    "                            'NOT deg-malign-3':5\n",
    "                           })\n",
    "\n",
    "non_recurrence_rule_1 = Memory(0.8, 0.2,\n",
    "                           {'menopause-lt40':5,\n",
    "                            'NOT menopause-lt40':5,\n",
    "                            'menopause-ge40':5,\n",
    "                            'NOT menopause-ge40':5,\n",
    "                            'menopause-premeno':5,\n",
    "                            'NOT menopause-premeno':5,\n",
    "                            'inv-nodes-0-2':5,\n",
    "                            'NOT inv-nodes-0-2':5,\n",
    "                            'inv-nodes-3-5':5,\n",
    "                            'NOT inv-nodes-3-5':5,\n",
    "                            'inv-nodes-6-8':5,\n",
    "                            'NOT inv-nodes-6-8':5,\n",
    "                            'deg-malign-1':5,\n",
    "                            'NOT deg-malign-1':5,\n",
    "                            'deg-malign-2':5,\n",
    "                            'NOT deg-malign-2':5,\n",
    "                            'deg-malign-3':5,\n",
    "                            'NOT deg-malign-3':5\n",
    "                           })"
   ]
  },
  {
   "cell_type": "code",
   "execution_count": 59,
   "id": "73b051d3",
   "metadata": {},
   "outputs": [],
   "source": [
    "# Feedback for recurrence rule\n",
    "for i in range(500):\n",
    "    observation_id = choice([0,1,2])\n",
    "    patient = choice([0,1])\n",
    "    if patient == 0:\n",
    "        type_i_feedback(patients_recurrence[observation_id], recurrence_rule_1)\n",
    "    else:\n",
    "        type_ii_feedback(patients_non_recurrence[observation_id], recurrence_rule_1)\n",
    "\n",
    "# Feedback for non recurrence rule\n",
    "for i in range(500):\n",
    "    observation_id = choice([0,1,2])\n",
    "    patient = choice([0,1])\n",
    "    if patient == 0:\n",
    "        type_i_feedback(patients_non_recurrence[observation_id], non_recurrence_rule_1)\n",
    "    else:\n",
    "        type_ii_feedback(patients_recurrence[observation_id], non_recurrence_rule_1)\n"
   ]
  },
  {
   "cell_type": "code",
   "execution_count": 60,
   "id": "ebad3dad-639b-4f36-9703-aa3d7cae2cf7",
   "metadata": {},
   "outputs": [
    {
     "name": "stdout",
     "output_type": "stream",
     "text": [
      "Recurrence\n",
      "Recurrence\n",
      "Recurrence\n",
      "Recurrence\n",
      "Non Recurrence\n",
      "Non Recurrence\n",
      "\n",
      "IF NOT menopause-lt40 AND NOT deg-malign-1 AND NOT deg-malign-2 AND deg-malign-3 THEN Recurrence \n",
      "\n",
      "IF inv-nodes-0-2 AND NOT deg-malign-3 THEN Non-Recurrence\n"
     ]
    }
   ],
   "source": [
    "print(classify(patients_recurrence[0], [recurrence_rule_1], [non_recurrence_rule_1]))\n",
    "print(classify(patients_recurrence[1], [recurrence_rule_1], [non_recurrence_rule_1]))\n",
    "print(classify(patients_recurrence[2], [recurrence_rule_1], [non_recurrence_rule_1]))\n",
    "\n",
    "print(classify(patients_non_recurrence[0], [recurrence_rule_1], [non_recurrence_rule_1]))\n",
    "print(classify(patients_non_recurrence[1], [recurrence_rule_1], [non_recurrence_rule_1]))\n",
    "print(classify(patients_non_recurrence[2], [recurrence_rule_1], [non_recurrence_rule_1]))\n",
    "\n",
    "print(\"\\nIF \" + \" AND \".join(recurrence_rule_1.get_condition()) + \" THEN Recurrence \\n\")\n",
    "\n",
    "print(\"IF \" + \" AND \".join(non_recurrence_rule_1.get_condition()) + \" THEN Non-Recurrence\")"
   ]
  },
  {
   "cell_type": "markdown",
   "id": "ce498e82-9209-4f9b-af13-009d261be1fe",
   "metadata": {},
   "source": [
    "## Step 7\n",
    "Learning rules with forget value 0.5 and memorize value 0.5"
   ]
  },
  {
   "cell_type": "code",
   "execution_count": 61,
   "id": "1aca6197-af61-4901-bd38-5cc55cab3997",
   "metadata": {},
   "outputs": [],
   "source": [
    "recurrence_rule_2 = Memory(0.5, 0.5,\n",
    "                           {'menopause-lt40':5,\n",
    "                            'NOT menopause-lt40':5,\n",
    "                            'menopause-ge40':5,\n",
    "                            'NOT menopause-ge40':5,\n",
    "                            'menopause-premeno':5,\n",
    "                            'NOT menopause-premeno':5,\n",
    "                            'inv-nodes-0-2':5,\n",
    "                            'NOT inv-nodes-0-2':5,\n",
    "                            'inv-nodes-3-5':5,\n",
    "                            'NOT inv-nodes-3-5':5,\n",
    "                            'inv-nodes-6-8':5,\n",
    "                            'NOT inv-nodes-6-8':5,\n",
    "                            'deg-malign-1':5,\n",
    "                            'NOT deg-malign-1':5,\n",
    "                            'deg-malign-2':5,\n",
    "                            'NOT deg-malign-2':5,\n",
    "                            'deg-malign-3':5,\n",
    "                            'NOT deg-malign-3':5\n",
    "                           })\n",
    "\n",
    "non_recurrence_rule_2 = Memory(0.5, 0.5,\n",
    "                           {'menopause-lt40':5,\n",
    "                            'NOT menopause-lt40':5,\n",
    "                            'menopause-ge40':5,\n",
    "                            'NOT menopause-ge40':5,\n",
    "                            'menopause-premeno':5,\n",
    "                            'NOT menopause-premeno':5,\n",
    "                            'inv-nodes-0-2':5,\n",
    "                            'NOT inv-nodes-0-2':5,\n",
    "                            'inv-nodes-3-5':5,\n",
    "                            'NOT inv-nodes-3-5':5,\n",
    "                            'inv-nodes-6-8':5,\n",
    "                            'NOT inv-nodes-6-8':5,\n",
    "                            'deg-malign-1':5,\n",
    "                            'NOT deg-malign-1':5,\n",
    "                            'deg-malign-2':5,\n",
    "                            'NOT deg-malign-2':5,\n",
    "                            'deg-malign-3':5,\n",
    "                            'NOT deg-malign-3':5\n",
    "                           })"
   ]
  },
  {
   "cell_type": "code",
   "execution_count": 62,
   "id": "fec6f5dc-cf92-46be-8600-dd2bbf8e587c",
   "metadata": {},
   "outputs": [],
   "source": [
    "# Feedback for recurrence rule\n",
    "for i in range(500):\n",
    "    observation_id = choice([0,1,2])\n",
    "    patient = choice([0,1])\n",
    "    if patient == 0:\n",
    "        type_i_feedback(patients_recurrence[observation_id], recurrence_rule_2)\n",
    "    else:\n",
    "        type_ii_feedback(patients_non_recurrence[observation_id], recurrence_rule_2)\n",
    "\n",
    "# Feedback for non recurrence rule\n",
    "for i in range(500):\n",
    "    observation_id = choice([0,1,2])\n",
    "    patient = choice([0,1])\n",
    "    if patient == 0:\n",
    "        type_i_feedback(patients_non_recurrence[observation_id], non_recurrence_rule_2)\n",
    "    else:\n",
    "        type_ii_feedback(patients_recurrence[observation_id], non_recurrence_rule_2)\n"
   ]
  },
  {
   "cell_type": "code",
   "execution_count": 63,
   "id": "38533ae1-33f9-44ce-b2da-bfa8f9ab232c",
   "metadata": {},
   "outputs": [
    {
     "name": "stdout",
     "output_type": "stream",
     "text": [
      "Recurrence\n",
      "Recurrence\n",
      "Recurrence\n",
      "Recurrence\n",
      "Non Recurrence\n",
      "Non Recurrence\n",
      "\n",
      "IF NOT menopause-lt40 AND NOT inv-nodes-3-5 AND NOT deg-malign-1 AND NOT deg-malign-2 AND deg-malign-3 THEN Recurrence \n",
      "\n",
      "IF NOT menopause-lt40 AND inv-nodes-0-2 AND NOT inv-nodes-3-5 AND NOT inv-nodes-6-8 AND NOT deg-malign-3 THEN Non-Recurrence\n"
     ]
    }
   ],
   "source": [
    "print(classify(patients_recurrence[0], [recurrence_rule_2], [non_recurrence_rule_2]))\n",
    "print(classify(patients_recurrence[1], [recurrence_rule_2], [non_recurrence_rule_2]))\n",
    "print(classify(patients_recurrence[2], [recurrence_rule_2], [non_recurrence_rule_2]))\n",
    "\n",
    "print(classify(patients_non_recurrence[0], [recurrence_rule_2], [non_recurrence_rule_2]))\n",
    "print(classify(patients_non_recurrence[1], [recurrence_rule_2], [non_recurrence_rule_2]))\n",
    "print(classify(patients_non_recurrence[2], [recurrence_rule_2], [non_recurrence_rule_2]))\n",
    "\n",
    "print(\"\\nIF \" + \" AND \".join(recurrence_rule_2.get_condition()) + \" THEN Recurrence \\n\")\n",
    "\n",
    "print(\"IF \" + \" AND \".join(non_recurrence_rule_2.get_condition()) + \" THEN Non-Recurrence\")"
   ]
  },
  {
   "cell_type": "markdown",
   "id": "4a66c814-4460-41c5-b204-aef189254964",
   "metadata": {},
   "source": [
    "## Step 8\n",
    "Learning rules with forget value 0.2 and memorize value 0.8"
   ]
  },
  {
   "cell_type": "code",
   "execution_count": 64,
   "id": "4a77abdd-9a41-40ea-b0d4-e5198069a768",
   "metadata": {},
   "outputs": [],
   "source": [
    "recurrence_rule_3 = Memory(0.2, 0.8,\n",
    "                           {'menopause-lt40':5,\n",
    "                            'NOT menopause-lt40':5,\n",
    "                            'menopause-ge40':5,\n",
    "                            'NOT menopause-ge40':5,\n",
    "                            'menopause-premeno':5,\n",
    "                            'NOT menopause-premeno':5,\n",
    "                            'inv-nodes-0-2':5,\n",
    "                            'NOT inv-nodes-0-2':5,\n",
    "                            'inv-nodes-3-5':5,\n",
    "                            'NOT inv-nodes-3-5':5,\n",
    "                            'inv-nodes-6-8':5,\n",
    "                            'NOT inv-nodes-6-8':5,\n",
    "                            'deg-malign-1':5,\n",
    "                            'NOT deg-malign-1':5,\n",
    "                            'deg-malign-2':5,\n",
    "                            'NOT deg-malign-2':5,\n",
    "                            'deg-malign-3':5,\n",
    "                            'NOT deg-malign-3':5\n",
    "                           })\n",
    "\n",
    "non_recurrence_rule_3 = Memory(0.2, 0.8,\n",
    "                           {'menopause-lt40':5,\n",
    "                            'NOT menopause-lt40':5,\n",
    "                            'menopause-ge40':5,\n",
    "                            'NOT menopause-ge40':5,\n",
    "                            'menopause-premeno':5,\n",
    "                            'NOT menopause-premeno':5,\n",
    "                            'inv-nodes-0-2':5,\n",
    "                            'NOT inv-nodes-0-2':5,\n",
    "                            'inv-nodes-3-5':5,\n",
    "                            'NOT inv-nodes-3-5':5,\n",
    "                            'inv-nodes-6-8':5,\n",
    "                            'NOT inv-nodes-6-8':5,\n",
    "                            'deg-malign-1':5,\n",
    "                            'NOT deg-malign-1':5,\n",
    "                            'deg-malign-2':5,\n",
    "                            'NOT deg-malign-2':5,\n",
    "                            'deg-malign-3':5,\n",
    "                            'NOT deg-malign-3':5\n",
    "                           })"
   ]
  },
  {
   "cell_type": "code",
   "execution_count": 65,
   "id": "f188201e-a7eb-49db-81fe-0ab482b32c57",
   "metadata": {},
   "outputs": [],
   "source": [
    "# Feedback for recurrence rule\n",
    "for i in range(500):\n",
    "    observation_id = choice([0,1,2])\n",
    "    patient = choice([0,1])\n",
    "    if patient == 0:\n",
    "        type_i_feedback(patients_recurrence[observation_id], recurrence_rule_3)\n",
    "    else:\n",
    "        type_ii_feedback(patients_non_recurrence[observation_id], recurrence_rule_3)\n",
    "\n",
    "# Feedback for non recurrence rule\n",
    "for i in range(500):\n",
    "    observation_id = choice([0,1,2])\n",
    "    patient = choice([0,1])\n",
    "    if patient == 0:\n",
    "        type_i_feedback(patients_non_recurrence[observation_id], non_recurrence_rule_3)\n",
    "    else:\n",
    "        type_ii_feedback(patients_recurrence[observation_id], non_recurrence_rule_3)"
   ]
  },
  {
   "cell_type": "code",
   "execution_count": 66,
   "id": "7932615e-a2d0-4a0f-95a9-10ebe30e0e0e",
   "metadata": {},
   "outputs": [
    {
     "name": "stdout",
     "output_type": "stream",
     "text": [
      "Recurrence\n",
      "Recurrence\n",
      "Recurrence\n",
      "Recurrence\n",
      "Recurrence\n",
      "Non Recurrence\n",
      "\n",
      "IF NOT menopause-lt40 AND NOT menopause-ge40 AND menopause-premeno AND inv-nodes-0-2 AND NOT inv-nodes-6-8 AND NOT deg-malign-1 AND NOT deg-malign-2 AND deg-malign-3 THEN Recurrence \n",
      "\n",
      "IF NOT menopause-lt40 AND NOT menopause-ge40 AND menopause-premeno AND inv-nodes-0-2 AND NOT inv-nodes-3-5 AND NOT inv-nodes-6-8 AND deg-malign-1 AND NOT deg-malign-2 AND NOT deg-malign-3 THEN Non-Recurrence\n"
     ]
    }
   ],
   "source": [
    "print(classify(patients_recurrence[0], [recurrence_rule_3], [non_recurrence_rule_3]))\n",
    "print(classify(patients_recurrence[1], [recurrence_rule_3], [non_recurrence_rule_3]))\n",
    "print(classify(patients_recurrence[2], [recurrence_rule_3], [non_recurrence_rule_3]))\n",
    "\n",
    "print(classify(patients_non_recurrence[0], [recurrence_rule_3], [non_recurrence_rule_3]))\n",
    "print(classify(patients_non_recurrence[1], [recurrence_rule_3], [non_recurrence_rule_3]))\n",
    "print(classify(patients_non_recurrence[2], [recurrence_rule_3], [non_recurrence_rule_3]))\n",
    "\n",
    "print(\"\\nIF \" + \" AND \".join(recurrence_rule_3.get_condition()) + \" THEN Recurrence \\n\")\n",
    "\n",
    "print(\"IF \" + \" AND \".join(non_recurrence_rule_3.get_condition()) + \" THEN Non-Recurrence\")"
   ]
  },
  {
   "cell_type": "markdown",
   "id": "3dbcf4a0-c1e2-44ee-bac6-ba2b2a9e79e0",
   "metadata": {},
   "source": [
    "## All rules combined"
   ]
  },
  {
   "cell_type": "code",
   "execution_count": 67,
   "id": "054477f4-248b-40fa-9466-d5a886560a16",
   "metadata": {},
   "outputs": [
    {
     "name": "stdout",
     "output_type": "stream",
     "text": [
      "Recurrence\n",
      "Recurrence\n",
      "Recurrence\n",
      "Recurrence\n",
      "Non Recurrence\n",
      "Non Recurrence\n",
      "\n",
      "IF NOT menopause-lt40 AND NOT deg-malign-1 AND NOT deg-malign-2 AND deg-malign-3 THEN Recurrence\n",
      "IF NOT menopause-lt40 AND NOT inv-nodes-3-5 AND NOT deg-malign-1 AND NOT deg-malign-2 AND deg-malign-3 THEN Recurrence\n",
      "IF NOT menopause-lt40 AND NOT menopause-ge40 AND menopause-premeno AND inv-nodes-0-2 AND NOT inv-nodes-6-8 AND NOT deg-malign-1 AND NOT deg-malign-2 AND deg-malign-3 THEN Recurrence \n",
      "\n",
      "IF inv-nodes-0-2 AND NOT deg-malign-3 THEN Non-Recurrence\n",
      "IF NOT menopause-lt40 AND inv-nodes-0-2 AND NOT inv-nodes-3-5 AND NOT inv-nodes-6-8 AND NOT deg-malign-3 THEN Non-Recurrence\n",
      "IF NOT menopause-lt40 AND NOT menopause-ge40 AND menopause-premeno AND inv-nodes-0-2 AND NOT inv-nodes-3-5 AND NOT inv-nodes-6-8 AND deg-malign-1 AND NOT deg-malign-2 AND NOT deg-malign-3 THEN Non-Recurrence\n"
     ]
    }
   ],
   "source": [
    "recurrence_rules = [recurrence_rule_1, recurrence_rule_2, recurrence_rule_3]\n",
    "non_recurrence_rules = [non_recurrence_rule_1, non_recurrence_rule_2, non_recurrence_rule_3]\n",
    "\n",
    "print(classify(patients_recurrence[0], recurrence_rules, non_recurrence_rules))\n",
    "print(classify(patients_recurrence[1], recurrence_rules, non_recurrence_rules))\n",
    "print(classify(patients_recurrence[2], recurrence_rules, non_recurrence_rules))\n",
    "\n",
    "print(classify(patients_non_recurrence[0], recurrence_rules, non_recurrence_rules))\n",
    "print(classify(patients_non_recurrence[1], recurrence_rules, non_recurrence_rules))\n",
    "print(classify(patients_non_recurrence[2], recurrence_rules, non_recurrence_rules))\n",
    "\n",
    "print(\"\\nIF \" + \" AND \".join(recurrence_rule_1.get_condition()) + \" THEN Recurrence\")\n",
    "print(\"IF \" + \" AND \".join(recurrence_rule_2.get_condition()) + \" THEN Recurrence\")\n",
    "print(\"IF \" + \" AND \".join(recurrence_rule_3.get_condition()) + \" THEN Recurrence \\n\")\n",
    "\n",
    "print(\"IF \" + \" AND \".join(non_recurrence_rule_1.get_condition()) + \" THEN Non-Recurrence\")\n",
    "print(\"IF \" + \" AND \".join(non_recurrence_rule_2.get_condition()) + \" THEN Non-Recurrence\")\n",
    "print(\"IF \" + \" AND \".join(non_recurrence_rule_3.get_condition()) + \" THEN Non-Recurrence\")"
   ]
  },
  {
   "cell_type": "code",
   "execution_count": null,
   "id": "b4201ae1-40d1-496c-b94b-2b459b0eff4f",
   "metadata": {},
   "outputs": [],
   "source": []
  }
 ],
 "metadata": {
  "kernelspec": {
   "display_name": "Python 3 (ipykernel)",
   "language": "python",
   "name": "python3"
  },
  "language_info": {
   "codemirror_mode": {
    "name": "ipython",
    "version": 3
   },
   "file_extension": ".py",
   "mimetype": "text/x-python",
   "name": "python",
   "nbconvert_exporter": "python",
   "pygments_lexer": "ipython3",
   "version": "3.12.5"
  }
 },
 "nbformat": 4,
 "nbformat_minor": 5
}
